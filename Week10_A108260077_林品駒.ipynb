{
  "nbformat": 4,
  "nbformat_minor": 0,
  "metadata": {
    "colab": {
      "name": "Week10-A108260077-林品駒.ipynb",
      "provenance": [],
      "include_colab_link": true
    },
    "kernelspec": {
      "name": "python2",
      "display_name": "Python 2"
    }
  },
  "cells": [
    {
      "cell_type": "markdown",
      "metadata": {
        "id": "view-in-github",
        "colab_type": "text"
      },
      "source": [
        "<a href=\"https://colab.research.google.com/github/hihobriteson/Introduction-to-Data-Science/blob/master/Week10_A108260077_%E6%9E%97%E5%93%81%E9%A7%92.ipynb\" target=\"_parent\"><img src=\"https://colab.research.google.com/assets/colab-badge.svg\" alt=\"Open In Colab\"/></a>"
      ]
    },
    {
      "cell_type": "code",
      "metadata": {
        "id": "2Oi8kxnCyjO4",
        "colab_type": "code",
        "colab": {
          "base_uri": "https://localhost:8080/",
          "height": 187
        },
        "outputId": "d045afeb-81ab-4ea2-abb4-cbd9eb777be2"
      },
      "source": [
        "x = 0 \n",
        "while x < 10:\n",
        " print(\"hello\")\n",
        " x = x + 1"
      ],
      "execution_count": 1,
      "outputs": [
        {
          "output_type": "stream",
          "text": [
            "hello\n",
            "hello\n",
            "hello\n",
            "hello\n",
            "hello\n",
            "hello\n",
            "hello\n",
            "hello\n",
            "hello\n",
            "hello\n"
          ],
          "name": "stdout"
        }
      ]
    },
    {
      "cell_type": "code",
      "metadata": {
        "id": "SLIGIlPgyths",
        "colab_type": "code",
        "colab": {
          "base_uri": "https://localhost:8080/",
          "height": 187
        },
        "outputId": "fd4214a6-03fa-47bc-db87-89b5cb5f9f6b"
      },
      "source": [
        "times = 0 \n",
        "while times < 10: \n",
        " times = times + 1 \n",
        " print(\"這是第\", times, \"次的hello\")"
      ],
      "execution_count": 8,
      "outputs": [
        {
          "output_type": "stream",
          "text": [
            "('\\xe9\\x80\\x99\\xe6\\x98\\xaf\\xe7\\xac\\xac', 1, '\\xe6\\xac\\xa1\\xe7\\x9a\\x84hello')\n",
            "('\\xe9\\x80\\x99\\xe6\\x98\\xaf\\xe7\\xac\\xac', 2, '\\xe6\\xac\\xa1\\xe7\\x9a\\x84hello')\n",
            "('\\xe9\\x80\\x99\\xe6\\x98\\xaf\\xe7\\xac\\xac', 3, '\\xe6\\xac\\xa1\\xe7\\x9a\\x84hello')\n",
            "('\\xe9\\x80\\x99\\xe6\\x98\\xaf\\xe7\\xac\\xac', 4, '\\xe6\\xac\\xa1\\xe7\\x9a\\x84hello')\n",
            "('\\xe9\\x80\\x99\\xe6\\x98\\xaf\\xe7\\xac\\xac', 5, '\\xe6\\xac\\xa1\\xe7\\x9a\\x84hello')\n",
            "('\\xe9\\x80\\x99\\xe6\\x98\\xaf\\xe7\\xac\\xac', 6, '\\xe6\\xac\\xa1\\xe7\\x9a\\x84hello')\n",
            "('\\xe9\\x80\\x99\\xe6\\x98\\xaf\\xe7\\xac\\xac', 7, '\\xe6\\xac\\xa1\\xe7\\x9a\\x84hello')\n",
            "('\\xe9\\x80\\x99\\xe6\\x98\\xaf\\xe7\\xac\\xac', 8, '\\xe6\\xac\\xa1\\xe7\\x9a\\x84hello')\n",
            "('\\xe9\\x80\\x99\\xe6\\x98\\xaf\\xe7\\xac\\xac', 9, '\\xe6\\xac\\xa1\\xe7\\x9a\\x84hello')\n",
            "('\\xe9\\x80\\x99\\xe6\\x98\\xaf\\xe7\\xac\\xac', 10, '\\xe6\\xac\\xa1\\xe7\\x9a\\x84hello')\n"
          ],
          "name": "stdout"
        }
      ]
    },
    {
      "cell_type": "code",
      "metadata": {
        "id": "hI70G3ixyxOT",
        "colab_type": "code",
        "colab": {
          "base_uri": "https://localhost:8080/",
          "height": 34
        },
        "outputId": "d4cd95a1-399d-44b6-b08f-13e59cb5a76d"
      },
      "source": [
        "x=5\n",
        "if x<10:\n",
        "   print(\"x小於10!\")"
      ],
      "execution_count": 9,
      "outputs": [
        {
          "output_type": "stream",
          "text": [
            "x小於10!\n"
          ],
          "name": "stdout"
        }
      ]
    },
    {
      "cell_type": "code",
      "metadata": {
        "id": "Ld7ZWYaYy849",
        "colab_type": "code",
        "colab": {
          "base_uri": "https://localhost:8080/",
          "height": 34
        },
        "outputId": "370550c5-abbf-4b0b-b756-01d3bae6febb"
      },
      "source": [
        "x=0\n",
        "result=0\n",
        "end=50\n",
        "while result <= end:\n",
        "   x=x+1\n",
        "   result = result+x\n",
        "print(\"最後加的x是\",x)\n"
      ],
      "execution_count": 10,
      "outputs": [
        {
          "output_type": "stream",
          "text": [
            "('\\xe6\\x9c\\x80\\xe5\\xbe\\x8c\\xe5\\x8a\\xa0\\xe7\\x9a\\x84x\\xe6\\x98\\xaf', 10)\n"
          ],
          "name": "stdout"
        }
      ]
    },
    {
      "cell_type": "code",
      "metadata": {
        "id": "BctTNLBny_S8",
        "colab_type": "code",
        "colab": {
          "base_uri": "https://localhost:8080/",
          "height": 102
        },
        "outputId": "00cb898a-fd2d-4d7f-865d-eed2160cd773"
      },
      "source": [
        "sum=0\n",
        "x=1\n",
        "while x<11:\n",
        "   sum = sum+x\n",
        "   x = x+2\n",
        "   print(\"1+3+5+7+9\",sum)"
      ],
      "execution_count": 11,
      "outputs": [
        {
          "output_type": "stream",
          "text": [
            "('1+3+5+7+9', 1)\n",
            "('1+3+5+7+9', 4)\n",
            "('1+3+5+7+9', 9)\n",
            "('1+3+5+7+9', 16)\n",
            "('1+3+5+7+9', 25)\n"
          ],
          "name": "stdout"
        }
      ]
    },
    {
      "cell_type": "code",
      "metadata": {
        "id": "hhLM-nydzBsr",
        "colab_type": "code",
        "colab": {
          "base_uri": "https://localhost:8080/",
          "height": 34
        },
        "outputId": "e8a81d86-c984-48e1-8c55-0e81ee27e172"
      },
      "source": [
        "sum = 0\n",
        "i = 0\n",
        "while sum <= 1000:\n",
        " i += 1\n",
        " sum += i*i\n",
        "print('最⼩的n值為', i)"
      ],
      "execution_count": 14,
      "outputs": [
        {
          "output_type": "stream",
          "text": [
            "('\\xe6\\x9c\\x80\\xe2\\xbc\\xa9\\xe7\\x9a\\x84n\\xe5\\x80\\xbc\\xe7\\x82\\xba', 14)\n"
          ],
          "name": "stdout"
        }
      ]
    },
    {
      "cell_type": "code",
      "metadata": {
        "id": "frFxPb3YzDRj",
        "colab_type": "code",
        "colab": {
          "base_uri": "https://localhost:8080/",
          "height": 102
        },
        "outputId": "42a1707f-476e-4284-cb04-488c3ce04e35"
      },
      "source": [
        "M = int(input('請輸入限制值M?')) \n",
        "factorial = 1\n",
        "i = 1\n",
        "\n",
        "while(factorial < M):\n",
        "  i = i+1\n",
        "  factorial = factorial*i\n",
        "  print(i,'階乘為',factorial,'其值大於',M)"
      ],
      "execution_count": 15,
      "outputs": [
        {
          "output_type": "stream",
          "text": [
            "請輸入限制值M?100\n",
            "(2, '\\xe9\\x9a\\x8e\\xe4\\xb9\\x98\\xe7\\x82\\xba', 2, '\\xe5\\x85\\xb6\\xe5\\x80\\xbc\\xe5\\xa4\\xa7\\xe6\\x96\\xbc', 100)\n",
            "(3, '\\xe9\\x9a\\x8e\\xe4\\xb9\\x98\\xe7\\x82\\xba', 6, '\\xe5\\x85\\xb6\\xe5\\x80\\xbc\\xe5\\xa4\\xa7\\xe6\\x96\\xbc', 100)\n",
            "(4, '\\xe9\\x9a\\x8e\\xe4\\xb9\\x98\\xe7\\x82\\xba', 24, '\\xe5\\x85\\xb6\\xe5\\x80\\xbc\\xe5\\xa4\\xa7\\xe6\\x96\\xbc', 100)\n",
            "(5, '\\xe9\\x9a\\x8e\\xe4\\xb9\\x98\\xe7\\x82\\xba', 120, '\\xe5\\x85\\xb6\\xe5\\x80\\xbc\\xe5\\xa4\\xa7\\xe6\\x96\\xbc', 100)\n"
          ],
          "name": "stdout"
        }
      ]
    },
    {
      "cell_type": "code",
      "metadata": {
        "id": "OjuOF_YizIRY",
        "colab_type": "code",
        "colab": {}
      },
      "source": [
        ""
      ],
      "execution_count": 0,
      "outputs": []
    }
  ]
}