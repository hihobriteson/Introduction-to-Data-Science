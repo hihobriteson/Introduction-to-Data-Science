{
  "nbformat": 4,
  "nbformat_minor": 0,
  "metadata": {
    "colab": {
      "name": "week6-A108260077-林品駒.ipynb",
      "provenance": [],
      "include_colab_link": true
    },
    "kernelspec": {
      "name": "python3",
      "display_name": "Python 3"
    }
  },
  "cells": [
    {
      "cell_type": "markdown",
      "metadata": {
        "id": "view-in-github",
        "colab_type": "text"
      },
      "source": [
        "<a href=\"https://colab.research.google.com/github/hihobriteson/Introduction-to-Data-Science/blob/master/week6_A108260077_%E6%9E%97%E5%93%81%E9%A7%92.ipynb\" target=\"_parent\"><img src=\"https://colab.research.google.com/assets/colab-badge.svg\" alt=\"Open In Colab\"/></a>"
      ]
    },
    {
      "cell_type": "code",
      "metadata": {
        "id": "hA8jEwo2ew7z",
        "colab_type": "code",
        "colab": {}
      },
      "source": [
        ""
      ],
      "execution_count": 0,
      "outputs": []
    },
    {
      "cell_type": "code",
      "metadata": {
        "id": "9IXWDlKWWrvX",
        "colab_type": "code",
        "outputId": "f4783fc9-0eb1-4617-aa99-148e1014038b",
        "colab": {
          "base_uri": "https://localhost:8080/",
          "height": 102
        }
      },
      "source": [
        "t1 = int(input('請輸入第一次期中考成績?'))\n",
        "t2 = int(input('請輸入第二次期中考成績?'))\n",
        "t3 = int(input('請輸入期末考成績?'))\n",
        "總分 = (t1 + t2 + t3)\n",
        "print('總分', 總分)\n",
        "平均 = (t1 + t2 + t3)/3\n",
        "print('平均', 平均)"
      ],
      "execution_count": 2,
      "outputs": [
        {
          "output_type": "stream",
          "text": [
            "請輸入第一次期中考成績?75\n",
            "請輸入第二次期中考成績?80\n",
            "請輸入期末考成績?60\n",
            "總分 215\n",
            "平均 71.66666666666667\n"
          ],
          "name": "stdout"
        }
      ]
    },
    {
      "cell_type": "code",
      "metadata": {
        "id": "f-BCaiXtezIH",
        "colab_type": "code",
        "colab": {
          "base_uri": "https://localhost:8080/",
          "height": 68
        },
        "outputId": "640e33d7-e917-44cb-f622-f788422b0daa"
      },
      "source": [
        "a =int(input('請輸入幾尺?'))\n",
        "b =int(input('請輸入幾吋?'))\n",
        "cm =(a*12+b)*2.54\n",
        "print('轉換成', cm)"
      ],
      "execution_count": 3,
      "outputs": [
        {
          "output_type": "stream",
          "text": [
            "請輸入幾尺?25\n",
            "請輸入幾吋?8\n",
            "轉換成 782.32\n"
          ],
          "name": "stdout"
        }
      ]
    },
    {
      "cell_type": "code",
      "metadata": {
        "id": "ft_5fHYYfDWh",
        "colab_type": "code",
        "colab": {
          "base_uri": "https://localhost:8080/",
          "height": 68
        },
        "outputId": "0008cdc5-1847-46b1-f753-0860c369ecf9"
      },
      "source": [
        "a =int(input('請輸入座號?'))\n",
        "b=int(input('請輸入幾人一組?'))\n",
        "組別=a%b\n",
        "print('組別', 組別)"
      ],
      "execution_count": 5,
      "outputs": [
        {
          "output_type": "stream",
          "text": [
            "請輸入座號?77\n",
            "請輸入幾人一組?5\n",
            "組別 2\n"
          ],
          "name": "stdout"
        }
      ]
    },
    {
      "cell_type": "code",
      "metadata": {
        "id": "3ZjwTo7TfHrl",
        "colab_type": "code",
        "colab": {
          "base_uri": "https://localhost:8080/",
          "height": 68
        },
        "outputId": "44b638fd-b7dc-4c04-b636-d50982b4af53"
      },
      "source": [
        "a=30/12\n",
        "b=20*30\n",
        "c=((30-30%12)/12*200)+((30%12)*20)\n",
        "print(a)\n",
        "print(b)\n",
        "print(c)"
      ],
      "execution_count": 6,
      "outputs": [
        {
          "output_type": "stream",
          "text": [
            "2.5\n",
            "600\n",
            "520.0\n"
          ],
          "name": "stdout"
        }
      ]
    },
    {
      "cell_type": "code",
      "metadata": {
        "id": "xeFXg67bfQ0B",
        "colab_type": "code",
        "colab": {
          "base_uri": "https://localhost:8080/",
          "height": 153
        },
        "outputId": "fe34a4bc-9753-448a-ab54-a67ee2985b16"
      },
      "source": [
        "KB=2**10 \n",
        "MB=2**20\n",
        "GB=2**30\n",
        "TB=2**40\n",
        "PB=2**50\n",
        "EB=2**60\n",
        "ZB=2**70\n",
        "YB=2**80\n",
        "print(KB)\n",
        "print(MB)\n",
        "print(GB)\n",
        "print(TB)\n",
        "print(PB)\n",
        "print(EB)\n",
        "print(ZB)\n",
        "print(YB)"
      ],
      "execution_count": 7,
      "outputs": [
        {
          "output_type": "stream",
          "text": [
            "1024\n",
            "1048576\n",
            "1073741824\n",
            "1099511627776\n",
            "1125899906842624\n",
            "1152921504606846976\n",
            "1180591620717411303424\n",
            "1208925819614629174706176\n"
          ],
          "name": "stdout"
        }
      ]
    },
    {
      "cell_type": "code",
      "metadata": {
        "id": "6EzL5RuWfS8g",
        "colab_type": "code",
        "colab": {}
      },
      "source": [
        ""
      ],
      "execution_count": 0,
      "outputs": []
    }
  ]
}